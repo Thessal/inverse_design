{
 "cells": [
  {
   "cell_type": "code",
   "execution_count": 18,
   "metadata": {},
   "outputs": [],
   "source": [
    "from tmm import *\n",
    "import itertools \n",
    "import math\n",
    "import numpy as np\n",
    "import pandas as pd\n",
    "import os\n",
    "#from tqdm import tqdm\n",
    "from p_tqdm import p_map\n",
    "from scipy.spatial.distance import squareform, pdist\n",
    "import keras\n",
    "\n",
    "def convert(number:float,type_str:str,convert_str:str,length_unit_in_meter=150e-9,n=1):\n",
    "    #\n",
    "    # Utility function for unit conversion\n",
    "    #\n",
    "    from math import pi\n",
    "    k = None # frequency\n",
    "    l = None # wavelength\n",
    "    c = 3e8 / n\n",
    "    a = length_unit_in_meter \n",
    "    units_f = {\"THz\" : 1e-12 * c / a, \"Hz\" : c / a, \"c/a\" : 1, \"/m\" : 2 * pi / a, \"/cm\" : 2 * pi / a / 100, \"/nm\" :  2 * pi / a / 1e9, \"/a\": 2 * pi}\n",
    "    units_l = {\"m\" : a, \"nm\" : 1e9 * a, \"a\" : 1}\n",
    "    units = {**units_f, **units_l}\n",
    "    if (type_str not in units) or (convert_str not in units) : \n",
    "        raise NotImplementedError(\"Unit is not recognized\")\n",
    "    elif (type_str in units_f) == (convert_str in units_f):\n",
    "        return units[convert_str] / units[type_str] * number\n",
    "    else :\n",
    "        return units[convert_str] * units[type_str] / number\n",
    "\n",
    "def generate_structure(count,layers=16,n1=1.4,n2=2.1,d_min=10e-9,d_max=150e-9):\n",
    "    #\n",
    "    # Define uniform search parameter space, No material dispersion\n",
    "    #\n",
    "    resolution = math.ceil(count ** (1/layers))\n",
    "    space_size = resolution ** layers \n",
    "    ignore_below = 1e-12\n",
    "    _digits = -math.floor(math.log(ignore_below,10))\n",
    "    d = [round(x,_digits) for x in np.linspace(d_min,d_max,resolution)]\n",
    "    d_lists = itertools.product(*([d]*layers))\n",
    "    n_list = [1.0] + ([n1,n1]*((layers+1)//2))[:layers] + [1.0]\n",
    "    for i, d in enumerate(d_lists):\n",
    "        if i == count : break\n",
    "        yield {\"d\" : [np.inf, *d, np.inf],\n",
    "               \"n\": n_list}\n",
    "\n",
    "def get_parameter_count(config:dict):\n",
    "    return config[\"layer_count\"]\n",
    "def get_parameter_names(config:dict):\n",
    "    return ['param_'+str(i) for i in range(get_parameter_count(config))]\n",
    "def get_parameter(structure:dict):\n",
    "    return structure[\"d\"][1:-1]\n",
    "    \n",
    "def calculate_spectrum(structure:dict, ks:list=np.linspace(0.0104720, 0.00628319, num=200)):\n",
    "    n_list = structure[\"n\"]\n",
    "    d_list = [x*1e9 for x in structure[\"d\"]]\n",
    "    spectrum = [coh_tmm('s', n_list, d_list, 0, 1/k)['R'] for k in ks]\n",
    "    return spectrum\n",
    "    \n",
    "def calculate_spectrum_all(config):\n",
    "    #\n",
    "    # Precalculate spectrum (forward looking!)\n",
    "    # row = structure\n",
    "    # column = wavelength\n",
    "    #\n",
    "    filename = f\"pkl/sim_{hash(str(config))}.pkl\"\n",
    "    if os.path.isfile(filename):\n",
    "        df = pd.read_pickle(filename)\n",
    "    else :\n",
    "        structures = generate_structure(config[\"simulation_count\"],layers=config[\"layer_count\"])\n",
    "        f1 = convert(config[\"spectral_range\"][1], \"c/a\", \"/nm\")\n",
    "        f2 = convert(config[\"spectral_range\"][0], \"c/a\", \"/nm\")\n",
    "        ks = np.linspace(f1, f2, config[\"spectral_resolution\"])\n",
    "        # results = [ get_parameter(s) + calculate_spectrum(s, ks) for s in tqdm(structures, total = config[\"simulation_count\"])]\n",
    "        results = p_map(lambda x : get_parameter(x) + calculate_spectrum(x,ks), list(structures))\n",
    "        columns = get_parameter_names(config) + list(ks)\n",
    "        df = pd.DataFrame(results, columns = columns)\n",
    "        df.to_pickle(filename)\n",
    "    return df\n",
    "\n",
    "def filter_similar_spectrum(config, df, thres_ratio=0.1, plot=False):\n",
    "    #\n",
    "    # Filter spectrum by euclidian distance\n",
    "    # However it is still overdetermined \n",
    "    # \n",
    "    assert(0<=thres_ratio<=1)\n",
    "    assert(df.shape== (config[\"simulation_count\"], get_parameter_count(config) + config[\"spectral_resolution\"]))\n",
    "    distance = pdist(df.iloc[:,get_parameter_count(config):])\n",
    "    dist_mat = pd.DataFrame(np.triu(squareform(distance)))\n",
    "    maxcorr = dist_mat.max()\n",
    "    thres = np.quantile(maxcorr, thres_ratio)\n",
    "    if plot:\n",
    "        import matplotlib.pyplot as plt\n",
    "        plt.figure()\n",
    "        plt.matshow(dist_mat, cmap = 'Greys', vmin=0, vmax=1)\n",
    "        # plt.figure()\n",
    "        # plt.hist(distance,bins=50)\n",
    "        # plt.figure()\n",
    "        # maxcorr.hist(bins=50)\n",
    "        plt.figure()\n",
    "        plt.matshow(dist_mat.loc[maxcorr<thres,maxcorr<thres], cmap = 'Greys', vmin=0, vmax=1)\n",
    "    return df[maxcorr<thres]\n",
    "\n",
    "def train_test_split(df,ratio):\n",
    "    train_count = math.floor(df.shape[0] * ratio)\n",
    "    df.reindex(np.random.permutation(df.index))\n",
    "    df = df.reindex(np.random.permutation(df.index))\n",
    "    df_train = df.iloc[:train_count,:]\n",
    "    df_train.reset_index(inplace=True, drop=True)\n",
    "    df_test = df.iloc[train_count:,:]\n",
    "    df_test.reset_index(inplace=True, drop=True)\n",
    "    return df_train, df_test"
   ]
  },
  {
   "cell_type": "code",
   "execution_count": 40,
   "metadata": {
    "scrolled": false
   },
   "outputs": [],
   "source": [
    "config = {\n",
    "    \"simulation_count\" : 100,\n",
    "    \"layer_count\" : 4,\n",
    "    \"spectral_range\" : (0.15,0.25),\n",
    "    \"spectral_resolution\" : 200\n",
    "}\n",
    "df = calculate_spectrum_all(config)\n",
    "\n",
    "df = df[:]\n",
    "df = filter_similar_spectrum(config, thres_ratio = 0.1, plot=False)"
   ]
  },
  {
   "cell_type": "code",
   "execution_count": 44,
   "metadata": {},
   "outputs": [
    {
     "data": {
      "text/plain": [
       "100"
      ]
     },
     "execution_count": 44,
     "metadata": {},
     "output_type": "execute_result"
    }
   ],
   "source": []
  },
  {
   "cell_type": "code",
   "execution_count": 8,
   "metadata": {},
   "outputs": [],
   "source": []
  },
  {
   "cell_type": "code",
   "execution_count": 3,
   "metadata": {},
   "outputs": [
    {
     "name": "stdout",
     "output_type": "stream",
     "text": [
      "Model: \"sequential\"\n",
      "_________________________________________________________________\n",
      "Layer (type)                 Output Shape              Param #   \n",
      "=================================================================\n",
      "dense (Dense)                (None, 200)               1000      \n",
      "_________________________________________________________________\n",
      "dense_1 (Dense)              (None, 500)               100500    \n",
      "_________________________________________________________________\n",
      "dense_2 (Dense)              (None, 200)               100200    \n",
      "=================================================================\n",
      "Total params: 201,700\n",
      "Trainable params: 201,700\n",
      "Non-trainable params: 0\n",
      "_________________________________________________________________\n",
      "Model: \"sequential_1\"\n",
      "_________________________________________________________________\n",
      "Layer (type)                 Output Shape              Param #   \n",
      "=================================================================\n",
      "dense_3 (Dense)              (None, 500)               100500    \n",
      "_________________________________________________________________\n",
      "dense_4 (Dense)              (None, 200)               100200    \n",
      "_________________________________________________________________\n",
      "dense_5 (Dense)              (None, 4)                 804       \n",
      "_________________________________________________________________\n",
      "dense (Dense)                (None, 200)               1000      \n",
      "_________________________________________________________________\n",
      "dense_1 (Dense)              (None, 500)               100500    \n",
      "_________________________________________________________________\n",
      "dense_2 (Dense)              (None, 200)               100200    \n",
      "=================================================================\n",
      "Total params: 403,204\n",
      "Trainable params: 403,204\n",
      "Non-trainable params: 0\n",
      "_________________________________________________________________\n",
      "Model: \"sequential_2\"\n",
      "_________________________________________________________________\n",
      "Layer (type)                 Output Shape              Param #   \n",
      "=================================================================\n",
      "dense_3 (Dense)              (None, 500)               100500    \n",
      "_________________________________________________________________\n",
      "dense_4 (Dense)              (None, 200)               100200    \n",
      "_________________________________________________________________\n",
      "dense_5 (Dense)              (None, 4)                 804       \n",
      "=================================================================\n",
      "Total params: 201,504\n",
      "Trainable params: 201,504\n",
      "Non-trainable params: 0\n",
      "_________________________________________________________________\n"
     ]
    }
   ],
   "source": [
    "# define model\n",
    "\n",
    "from tensorflow.keras.models import Sequential\n",
    "from tensorflow.keras.layers import Dense\n",
    "from tensorflow.keras.layers.experimental.preprocessing import Normalization\n",
    "import tensorflow as tf\n",
    "\n",
    "model_forward = Sequential([\n",
    "  keras.Input(shape=(get_parameter_count(config))),\n",
    "  Dense(config[\"spectral_resolution\"], activation='relu'),\n",
    "  Dense(config[\"spectral_resolution\"]*2.5, activation='relu'),\n",
    "  Dense(config[\"spectral_resolution\"]),\n",
    "])\n",
    "model_forward.summary()\n",
    "model_forward.compile(optimizer='adam',\n",
    "                loss=tf.keras.losses.mae,\n",
    "                metrics=['accuracy'])\n",
    "\n",
    "model_backward = Sequential([\n",
    "  keras.Input(shape=(config[\"spectral_resolution\"])),\n",
    "  Dense(config[\"spectral_resolution\"]*2.5, activation='relu'),\n",
    "  Dense(config[\"spectral_resolution\"], activation='relu'),\n",
    "  Dense(get_parameter_count(config), activation='relu'),\n",
    "] + model_forward.layers)\n",
    "model_backward.summary()\n",
    "model_backward.compile(optimizer='adam',\n",
    "                loss=tf.keras.losses.mae,\n",
    "                metrics=['accuracy'])\n",
    "\n",
    "model_inverse = Sequential([\n",
    "  keras.Input(shape=(config[\"spectral_resolution\"])) ] \n",
    "    + model_backward.layers[:-len(model_forward.layers)])\n",
    "model_inverse.summary()\n"
   ]
  },
  {
   "cell_type": "code",
   "execution_count": 49,
   "metadata": {
    "scrolled": false
   },
   "outputs": [
    {
     "name": "stdout",
     "output_type": "stream",
     "text": [
      "Epoch 1/10\n",
      "4/4 [==============================] - 0s 3ms/step - loss: 0.0180 - accuracy: 0.0500\n",
      "Epoch 2/10\n",
      "4/4 [==============================] - 0s 3ms/step - loss: 0.0144 - accuracy: 0.1100\n",
      "Epoch 3/10\n",
      "4/4 [==============================] - 0s 3ms/step - loss: 0.0103 - accuracy: 0.0400\n",
      "Epoch 4/10\n",
      "4/4 [==============================] - 0s 3ms/step - loss: 0.0085 - accuracy: 0.0200\n",
      "Epoch 5/10\n",
      "4/4 [==============================] - 0s 4ms/step - loss: 0.0071 - accuracy: 0.0400\n",
      "Epoch 6/10\n",
      "4/4 [==============================] - 0s 4ms/step - loss: 0.0062 - accuracy: 0.0500\n",
      "Epoch 7/10\n",
      "4/4 [==============================] - 0s 5ms/step - loss: 0.0054 - accuracy: 0.0200\n",
      "Epoch 8/10\n",
      "4/4 [==============================] - 0s 4ms/step - loss: 0.0045 - accuracy: 0.0000e+00\n",
      "Epoch 9/10\n",
      "4/4 [==============================] - 0s 3ms/step - loss: 0.0041 - accuracy: 0.0100\n",
      "Epoch 10/10\n",
      "4/4 [==============================] - 0s 3ms/step - loss: 0.0036 - accuracy: 0.1000\n"
     ]
    },
    {
     "data": {
      "image/png": "[encoded data removed]",
      "text/plain": [
       "<Figure size 432x288 with 1 Axes>"
      ]
     },
     "metadata": {
      "needs_background": "light"
     },
     "output_type": "display_data"
    },
    {
     "name": "stdout",
     "output_type": "stream",
     "text": [
      "Epoch 1/10\n",
      "4/4 [==============================] - 0s 3ms/step - loss: 0.0202 - accuracy: 0.0000e+00\n",
      "Epoch 2/10\n",
      "4/4 [==============================] - 0s 3ms/step - loss: 0.0170 - accuracy: 0.0000e+00\n",
      "Epoch 3/10\n",
      "4/4 [==============================] - 0s 3ms/step - loss: 0.0139 - accuracy: 0.2500\n",
      "Epoch 4/10\n",
      "4/4 [==============================] - 0s 5ms/step - loss: 0.0126 - accuracy: 0.0000e+00\n",
      "Epoch 5/10\n",
      "4/4 [==============================] - 0s 5ms/step - loss: 0.0110 - accuracy: 0.0000e+00\n",
      "Epoch 6/10\n",
      "4/4 [==============================] - 0s 3ms/step - loss: 0.0106 - accuracy: 0.0000e+00\n",
      "Epoch 7/10\n",
      "4/4 [==============================] - 0s 5ms/step - loss: 0.0100 - accuracy: 0.0000e+00\n",
      "Epoch 8/10\n",
      "4/4 [==============================] - 0s 4ms/step - loss: 0.0093 - accuracy: 0.0100\n",
      "Epoch 9/10\n",
      "4/4 [==============================] - 0s 6ms/step - loss: 0.0085 - accuracy: 0.0600\n",
      "Epoch 10/10\n",
      "4/4 [==============================] - 0s 5ms/step - loss: 0.0072 - accuracy: 0.0000e+00\n"
     ]
    },
    {
     "data": {
      "image/png": "[encoded data removed]",
      "text/plain": [
       "<Figure size 432x288 with 1 Axes>"
      ]
     },
     "metadata": {
      "needs_background": "light"
     },
     "output_type": "display_data"
    }
   ],
   "source": [
    "# Prepare data \n",
    "X = df.iloc[:,:get_parameter_count(config)]\n",
    "Y = df.iloc[:,get_parameter_count(config):]\n",
    "normalizer = Normalization()\n",
    "normalizer.adapt(X.values)\n",
    "\n",
    "import matplotlib.pyplot as plt\n",
    "train_ecochs = 10\n",
    "\n",
    "# forward train\n",
    "history_forward = model_forward.fit(x=normalizer(X), y=Y.values, epochs=train_ecochs)\n",
    "plt.plot(history_forward.history['loss'])\n",
    "#plt.plot(history_forward.history['val_loss'])\n",
    "plt.show()\n",
    "\n",
    "# backward train\n",
    "# freeze forward layers\n",
    "for l in model_forward.layers:\n",
    "    l.trainable=False\n",
    "history_backward = model_backward.fit(x=Y.values, y=Y.values, epochs=train_ecochs)\n",
    "plt.plot(history_backward.history['loss'])\n",
    "#plt.plot(history_backward.history['val_loss'])\n",
    "plt.show()"
   ]
  },
  {
   "cell_type": "code",
   "execution_count": 5,
   "metadata": {
    "scrolled": false
   },
   "outputs": [
    {
     "name": "stdout",
     "output_type": "stream",
     "text": [
      "[2.4482861959995716e-08, 4.540234499472717e-08, 5.0909194524332616e-08, 4.701155020825354e-08]\n"
     ]
    }
   ],
   "source": [
    "# Inverse design\n",
    "\n",
    "def denormalize(normalizer, tensor):\n",
    "    output = []\n",
    "    for x,y,z in zip(\n",
    "        np.array(normalizer.mean),\n",
    "        np.array(normalizer.variance),\n",
    "        np.array(tensor[0])\n",
    "    ):\n",
    "        output.append(x+math.sqrt(y)*z)\n",
    "    return output\n",
    "\n",
    "test_input = tf.reshape(tf.convert_to_tensor(Y.iloc[0,:].values),(1,config[\"spectral_resolution\"]))\n",
    "test_output = denormalize(normalizer, model_inverse(test_input))\n",
    "print(test_output)\n"
   ]
  },
  {
   "cell_type": "code",
   "execution_count": null,
   "metadata": {},
   "outputs": [],
   "source": []
  },
  {
   "cell_type": "code",
   "execution_count": null,
   "metadata": {},
   "outputs": [],
   "source": [
    "\n"
   ]
  },
  {
   "cell_type": "code",
   "execution_count": null,
   "metadata": {},
   "outputs": [],
   "source": []
  },
  {
   "cell_type": "code",
   "execution_count": null,
   "metadata": {},
   "outputs": [],
   "source": []
  },
  {
   "cell_type": "code",
   "execution_count": null,
   "metadata": {},
   "outputs": [],
   "source": []
  },
  {
   "cell_type": "code",
   "execution_count": null,
   "metadata": {},
   "outputs": [],
   "source": []
  },
  {
   "cell_type": "code",
   "execution_count": 7,
   "metadata": {},
   "outputs": [],
   "source": [
    "## tests\n",
    "\n",
    "def __test_structure():\n",
    "#     return [\n",
    "#         [ round(y*1e9) for y in x[\"d\"] if np.isfinite(y)]\n",
    "#         for x in generate_structure(100,layers=4)\n",
    "#     ]\n",
    "    return [ x for x in generate_structure(100,layers=4) ]\n",
    "        \n",
    "def __test_tmm():\n",
    "    f1 = 0.15\n",
    "    f2 = 0.25\n",
    "    ks = np.linspace(convert(f2, \"c/a\", \"/nm\"), convert(f1, \"c/a\", \"/nm\"),200)\n",
    "    structure = {\n",
    "        'd': [inf, 1e-08, 5.6667e-08, 1e-08, 5.6667e-08, inf],\n",
    "        'n': [1.0, 1.4, 1.4, 1.4, 1.4, 1.0]\n",
    "    }\n",
    "    import matplotlib.pyplot as plt\n",
    "    Rnorm = calculate_spectrum(structure, ks)\n",
    "    plt.plot(ks * 1e7, Rnorm, 'blue')\n",
    "    return Rnorm\n",
    "        \n",
    "def __test_multiple_tmm():\n",
    "    f1 = 0.15\n",
    "    f2 = 0.25\n",
    "    ks = np.linspace(convert(f2, \"c/a\", \"/nm\"), convert(f1, \"c/a\", \"/nm\"),200)\n",
    "    a = generate_structure(100,layers=4)\n",
    "    import matplotlib.pyplot as plt\n",
    "    [next(a) for x in range(50)]\n",
    "    Rnorm = calculate_spectrum(next(a), ks)\n",
    "    plt.plot(ks * 1e7, Rnorm, 'blue')\n",
    "    plt.xlabel('k (cm$^{-1}$)')\n",
    "    plt.ylabel('Fraction reflected')\n",
    "    plt.title('Reflection of unpolarized light at 0$^\\circ$ incidence')\n",
    "    return Rnorm\n",
    "\n",
    "def __test_simulation():\n",
    "    config = {\n",
    "        \"simulation_count\" : 100,\n",
    "        \"layer_count\" : 4,\n",
    "        \"spectral_range\" : (0.15,0.25),\n",
    "        \"spectral_resolution\" : 200\n",
    "    }\n",
    "    df = calculate_spectrum_all(config)\n",
    "    return df\n",
    "\n",
    "#__test_structure()\n",
    "#__test_tmm()\n",
    "#__test_multiple_tmm()\n",
    "#__test_simulation()"
   ]
  },
  {
   "cell_type": "code",
   "execution_count": null,
   "metadata": {},
   "outputs": [],
   "source": []
  },
  {
   "cell_type": "code",
   "execution_count": null,
   "metadata": {},
   "outputs": [],
   "source": []
  },
  {
   "cell_type": "code",
   "execution_count": null,
   "metadata": {},
   "outputs": [],
   "source": []
  },
  {
   "cell_type": "code",
   "execution_count": null,
   "metadata": {},
   "outputs": [],
   "source": []
  }
 ],
 "metadata": {
  "kernelspec": {
   "display_name": "ml_test",
   "language": "python",
   "name": "ml_test"
  },
  "language_info": {
   "codemirror_mode": {
    "name": "ipython",
    "version": 3
   },
   "file_extension": ".py",
   "mimetype": "text/x-python",
   "name": "python",
   "nbconvert_exporter": "python",
   "pygments_lexer": "ipython3",
   "version": "3.8.6"
  }
 },
 "nbformat": 4,
 "nbformat_minor": 4
}
