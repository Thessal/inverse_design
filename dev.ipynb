{
 "cells": [
  {
   "cell_type": "code",
   "execution_count": 1,
   "metadata": {},
   "outputs": [
    {
     "name": "stdout",
     "output_type": "stream",
     "text": [
      "Epoch 1/10\n",
      "1/1 [==============================] - 0s 378ms/step - loss: 0.2506 - accuracy: 0.0000e+00\n",
      "Epoch 2/10\n",
      "1/1 [==============================] - 0s 4ms/step - loss: 0.2318 - accuracy: 0.0000e+00\n",
      "Epoch 3/10\n",
      "1/1 [==============================] - 0s 4ms/step - loss: 0.2143 - accuracy: 0.0000e+00\n",
      "Epoch 4/10\n",
      "1/1 [==============================] - 0s 5ms/step - loss: 0.1973 - accuracy: 0.0000e+00\n",
      "Epoch 5/10\n",
      "1/1 [==============================] - 0s 4ms/step - loss: 0.1806 - accuracy: 0.0000e+00\n",
      "Epoch 6/10\n",
      "1/1 [==============================] - 0s 3ms/step - loss: 0.1644 - accuracy: 0.0000e+00\n",
      "Epoch 7/10\n",
      "1/1 [==============================] - 0s 6ms/step - loss: 0.1495 - accuracy: 0.0000e+00\n",
      "Epoch 8/10\n",
      "1/1 [==============================] - 0s 4ms/step - loss: 0.1363 - accuracy: 0.0000e+00\n",
      "Epoch 9/10\n",
      "1/1 [==============================] - 0s 4ms/step - loss: 0.1257 - accuracy: 0.0000e+00\n",
      "Epoch 10/10\n",
      "1/1 [==============================] - 0s 4ms/step - loss: 0.1175 - accuracy: 0.0000e+00\n",
      "Epoch 1/10\n",
      "1/1 [==============================] - 0s 384ms/step - loss: 0.1499 - accuracy: 0.0000e+00\n",
      "Epoch 2/10\n",
      "1/1 [==============================] - 0s 7ms/step - loss: 0.1579 - accuracy: 0.0000e+00\n",
      "Epoch 3/10\n",
      "1/1 [==============================] - 0s 5ms/step - loss: 0.1222 - accuracy: 0.0000e+00\n",
      "Epoch 4/10\n",
      "1/1 [==============================] - 0s 5ms/step - loss: 0.1172 - accuracy: 0.0000e+00\n",
      "Epoch 5/10\n",
      "1/1 [==============================] - 0s 6ms/step - loss: 0.1171 - accuracy: 0.0000e+00\n",
      "Epoch 6/10\n",
      "1/1 [==============================] - 0s 8ms/step - loss: 0.1095 - accuracy: 0.0000e+00\n",
      "Epoch 7/10\n",
      "1/1 [==============================] - 0s 4ms/step - loss: 0.1049 - accuracy: 0.0000e+00\n",
      "Epoch 8/10\n",
      "1/1 [==============================] - 0s 9ms/step - loss: 0.1063 - accuracy: 0.0000e+00\n",
      "Epoch 9/10\n",
      "1/1 [==============================] - 0s 6ms/step - loss: 0.1004 - accuracy: 0.0000e+00\n",
      "Epoch 10/10\n",
      "1/1 [==============================] - 0s 9ms/step - loss: 0.0991 - accuracy: 0.0000e+00\n"
     ]
    }
   ],
   "source": [
    "import inverse_design\n",
    "\n",
    "config = {\n",
    "    \"simulation_count\" : 50,\n",
    "    \"layer_count\" : 20,\n",
    "    \"spectral_range\" : (0.15,0.25),\n",
    "    \"spectral_resolution\" : 200,\n",
    "    \"n1\":1.4,\n",
    "    \"n2\":2.1,\n",
    "    \"d_min\":10e-9,\n",
    "    \"d_max\":150e-9\n",
    "}\n",
    "df = inverse_design.calculate_spectrum_all(config)\n",
    "\n",
    "df = inverse_design.filter_similar_spectrum(config, df, thres_ratio = 0.1, plot=False)\n"
   ]
  },
  {
   "cell_type": "code",
   "execution_count": 2,
   "metadata": {},
   "outputs": [
    {
     "name": "stdout",
     "output_type": "stream",
     "text": [
      "Epoch 1/20\n",
      "1/1 [==============================] - 0s 362ms/step - loss: 0.2526 - accuracy: 0.0000e+00\n",
      "Epoch 2/20\n",
      "1/1 [==============================] - 0s 3ms/step - loss: 0.2351 - accuracy: 0.0000e+00\n",
      "Epoch 3/20\n",
      "1/1 [==============================] - 0s 3ms/step - loss: 0.2187 - accuracy: 0.0000e+00\n",
      "Epoch 4/20\n",
      "1/1 [==============================] - 0s 3ms/step - loss: 0.2025 - accuracy: 0.0000e+00\n",
      "Epoch 5/20\n",
      "1/1 [==============================] - 0s 4ms/step - loss: 0.1863 - accuracy: 0.0000e+00\n",
      "Epoch 6/20\n",
      "1/1 [==============================] - 0s 6ms/step - loss: 0.1705 - accuracy: 0.0000e+00\n",
      "Epoch 7/20\n",
      "1/1 [==============================] - 0s 4ms/step - loss: 0.1547 - accuracy: 0.0000e+00\n",
      "Epoch 8/20\n",
      "1/1 [==============================] - 0s 5ms/step - loss: 0.1401 - accuracy: 0.0000e+00\n",
      "Epoch 9/20\n",
      "1/1 [==============================] - 0s 3ms/step - loss: 0.1275 - accuracy: 0.0000e+00\n",
      "Epoch 10/20\n",
      "1/1 [==============================] - 0s 7ms/step - loss: 0.1181 - accuracy: 0.0000e+00\n",
      "Epoch 11/20\n",
      "1/1 [==============================] - 0s 4ms/step - loss: 0.1110 - accuracy: 0.0000e+00\n",
      "Epoch 12/20\n",
      "1/1 [==============================] - 0s 7ms/step - loss: 0.1058 - accuracy: 0.0000e+00\n",
      "Epoch 13/20\n",
      "1/1 [==============================] - 0s 5ms/step - loss: 0.1011 - accuracy: 0.0000e+00\n",
      "Epoch 14/20\n",
      "1/1 [==============================] - 0s 4ms/step - loss: 0.0947 - accuracy: 0.0000e+00\n",
      "Epoch 15/20\n",
      "1/1 [==============================] - 0s 4ms/step - loss: 0.0865 - accuracy: 0.0000e+00\n",
      "Epoch 16/20\n",
      "1/1 [==============================] - 0s 3ms/step - loss: 0.0771 - accuracy: 0.0000e+00\n",
      "Epoch 17/20\n",
      "1/1 [==============================] - 0s 8ms/step - loss: 0.0684 - accuracy: 0.0000e+00\n",
      "Epoch 18/20\n",
      "1/1 [==============================] - 0s 3ms/step - loss: 0.0622 - accuracy: 0.0000e+00\n",
      "Epoch 19/20\n",
      "1/1 [==============================] - 0s 8ms/step - loss: 0.0581 - accuracy: 0.0000e+00\n",
      "Epoch 20/20\n",
      "1/1 [==============================] - 0s 3ms/step - loss: 0.0546 - accuracy: 0.0000e+00\n",
      "Epoch 1/20\n",
      "1/1 [==============================] - 0s 378ms/step - loss: 0.1289 - accuracy: 0.0000e+00\n",
      "Epoch 2/20\n",
      "1/1 [==============================] - 0s 6ms/step - loss: 0.2145 - accuracy: 0.0000e+00\n",
      "Epoch 3/20\n",
      "1/1 [==============================] - 0s 5ms/step - loss: 0.1160 - accuracy: 0.0000e+00\n",
      "Epoch 4/20\n",
      "1/1 [==============================] - 0s 9ms/step - loss: 0.1139 - accuracy: 0.0000e+00\n",
      "Epoch 5/20\n",
      "1/1 [==============================] - 0s 5ms/step - loss: 0.1259 - accuracy: 0.0000e+00\n",
      "Epoch 6/20\n",
      "1/1 [==============================] - 0s 5ms/step - loss: 0.1157 - accuracy: 0.0000e+00\n",
      "Epoch 7/20\n",
      "1/1 [==============================] - 0s 8ms/step - loss: 0.0995 - accuracy: 0.0000e+00\n",
      "Epoch 8/20\n",
      "1/1 [==============================] - 0s 6ms/step - loss: 0.1009 - accuracy: 0.0000e+00\n",
      "Epoch 9/20\n",
      "1/1 [==============================] - 0s 7ms/step - loss: 0.1010 - accuracy: 0.0000e+00\n",
      "Epoch 10/20\n",
      "1/1 [==============================] - 0s 4ms/step - loss: 0.0870 - accuracy: 0.0000e+00\n",
      "Epoch 11/20\n",
      "1/1 [==============================] - 0s 10ms/step - loss: 0.0777 - accuracy: 0.0000e+00\n",
      "Epoch 12/20\n",
      "1/1 [==============================] - 0s 12ms/step - loss: 0.0763 - accuracy: 0.0000e+00\n",
      "Epoch 13/20\n",
      "1/1 [==============================] - 0s 4ms/step - loss: 0.0725 - accuracy: 0.2000\n",
      "Epoch 14/20\n",
      "1/1 [==============================] - 0s 8ms/step - loss: 0.0657 - accuracy: 0.2000\n",
      "Epoch 15/20\n",
      "1/1 [==============================] - 0s 4ms/step - loss: 0.0614 - accuracy: 0.2000\n",
      "Epoch 16/20\n",
      "1/1 [==============================] - 0s 8ms/step - loss: 0.0575 - accuracy: 0.0000e+00\n",
      "Epoch 17/20\n",
      "1/1 [==============================] - 0s 5ms/step - loss: 0.0525 - accuracy: 0.2000\n",
      "Epoch 18/20\n",
      "1/1 [==============================] - 0s 5ms/step - loss: 0.0502 - accuracy: 0.2000\n",
      "Epoch 19/20\n",
      "1/1 [==============================] - 0s 4ms/step - loss: 0.0477 - accuracy: 0.2000\n",
      "Epoch 20/20\n",
      "1/1 [==============================] - 0s 5ms/step - loss: 0.0431 - accuracy: 0.2000\n"
     ]
    }
   ],
   "source": [
    "inv = inverse_design.inverse_model(config)\n",
    "inv.train(df, train_epochs=20)\n"
   ]
  },
  {
   "cell_type": "code",
   "execution_count": 2,
   "metadata": {},
   "outputs": [
    {
     "data": {
      "image/png": "[encoded data removed]",
      "text/plain": [
       "<Figure size 432x288 with 1 Axes>"
      ]
     },
     "metadata": {
      "needs_background": "light"
     },
     "output_type": "display_data"
    },
    {
     "data": {
      "image/png": "[encoded data removed]",
      "text/plain": [
       "<Figure size 432x288 with 1 Axes>"
      ]
     },
     "metadata": {
      "needs_background": "light"
     },
     "output_type": "display_data"
    },
    {
     "name": "stdout",
     "output_type": "stream",
     "text": [
      "Possible structure : [10.0, 10.0, 10.0, 10.0, 10.0, 10.0, 10.0, 10.0, 10.0, 10.0, 10.0, 10.0, 10.0, 10.0, 10.0, 10.0, 10.0, 10.0, 150.0, 150.0]\n",
      "Output structure : [10.0, 10.0, 10.0, 10.0, 10.0, 10.0, 10.0, 10.0, 10.0, 10.0, 10.0, 10.0, 10.0, 10.0, 10.0, 10.0, 10.0, 66.0, 66.0, 135.9]\n",
      "INFO:tensorflow:Assets written to: models/model_foward_filename/assets\n",
      "INFO:tensorflow:Assets written to: models/model_backward_filename/assets\n",
      "INFO:tensorflow:Assets written to: models/model_inverse_filename/assets\n"
     ]
    },
    {
     "data": {
      "image/png": "[encoded data removed]",
      "text/plain": [
       "<Figure size 432x288 with 1 Axes>"
      ]
     },
     "metadata": {
      "needs_background": "light"
     },
     "output_type": "display_data"
    }
   ],
   "source": [
    "\n",
    "inv.show_history()\n",
    "inv.test(df)\n",
    "inv.save_model()"
   ]
  },
  {
   "cell_type": "code",
   "execution_count": null,
   "metadata": {},
   "outputs": [],
   "source": []
  },
  {
   "cell_type": "code",
   "execution_count": null,
   "metadata": {},
   "outputs": [],
   "source": []
  },
  {
   "cell_type": "code",
   "execution_count": 57,
   "metadata": {},
   "outputs": [],
   "source": [
    "from tmm import *\n",
    "import itertools \n",
    "import math\n",
    "import numpy as np\n",
    "import pandas as pd\n",
    "import os\n",
    "#from tqdm import tqdm\n",
    "from p_tqdm import p_map\n",
    "from scipy.spatial.distance import squareform, pdist\n",
    "import keras\n",
    "import hashlib\n",
    "\n",
    "def convert(number:float,type_str:str,convert_str:str,length_unit_in_meter=150e-9,n=1):\n",
    "    #\n",
    "    # Utility function for unit conversion\n",
    "    #\n",
    "    from math import pi\n",
    "    k = None # frequency\n",
    "    l = None # wavelength\n",
    "    c = 3e8 / n\n",
    "    a = length_unit_in_meter \n",
    "    units_f = {\"THz\" : 1e-12 * c / a, \"Hz\" : c / a, \"c/a\" : 1, \"/m\" : 2 * pi / a, \"/cm\" : 2 * pi / a / 100, \"/nm\" :  2 * pi / a / 1e9, \"/a\": 2 * pi}\n",
    "    units_l = {\"m\" : a, \"nm\" : 1e9 * a, \"a\" : 1}\n",
    "    units = {**units_f, **units_l}\n",
    "    if (type_str not in units) or (convert_str not in units) : \n",
    "        raise NotImplementedError(\"Unit is not recognized\")\n",
    "    elif (type_str in units_f) == (convert_str in units_f):\n",
    "        return units[convert_str] / units[type_str] * number\n",
    "    else :\n",
    "        return units[convert_str] * units[type_str] / number\n",
    "\n",
    "def generate_structure(config:dict, params:list):\n",
    "    return {\"d\" :  [np.inf, *params, np.inf],\n",
    "            \"n\" : [1.0] + ([config[\"n1\"],config[\"n2\"]]*((config[\"layer_count\"]+1)//2))[:config[\"layer_count\"]] + [1.0] }\n",
    "    \n",
    "    \n",
    "def generate_structure_all(config):\n",
    "    #\n",
    "    # Define uniform search parameter space, No material dispersion\n",
    "    #\n",
    "    resolution = math.ceil(config[\"simulation_count\"] ** (1/config[\"layer_count\"]))\n",
    "    space_size = resolution ** config[\"layer_count\"]\n",
    "    ignore_below = 1e-12\n",
    "    _digits = -math.floor(math.log(ignore_below,10))\n",
    "    d = [round(x,_digits) for x in np.linspace(config[\"d_min\"],config[\"d_max\"],resolution)]\n",
    "    params = itertools.product(*([d]*config[\"layer_count\"]))\n",
    "    for i, p in enumerate(params):\n",
    "        if i == config[\"simulation_count\"] : break\n",
    "        yield generate_structure(config, p)\n",
    "\n",
    "def get_parameter_count(config:dict):\n",
    "    return config[\"layer_count\"]\n",
    "def get_parameter_names(config:dict):\n",
    "    return ['param_'+str(i) for i in range(get_parameter_count(config))]\n",
    "def get_parameter(structure:dict):\n",
    "    return structure[\"d\"][1:-1]\n",
    "    \n",
    "def calculate_spectrum(structure:dict, ks:list=np.linspace(0.0104720, 0.00628319, num=200)):\n",
    "    n_list = structure[\"n\"]\n",
    "    d_list = [x*1e9 for x in structure[\"d\"]]\n",
    "    spectrum = [coh_tmm('s', n_list, d_list, 0, 1/k)['R'] for k in ks]\n",
    "    return spectrum\n",
    "    \n",
    "def calculate_spectrum_all(config):\n",
    "    #\n",
    "    # Precalculate spectrum (forward looking!)\n",
    "    # row = structure\n",
    "    # column = wavelength\n",
    "    #\n",
    "    filename = f\"pkl/sim_{hashlib.md5(str(config).encode()).hexdigest()}.pkl\"\n",
    "    if os.path.isfile(filename):\n",
    "        df = pd.read_pickle(filename)\n",
    "    else :\n",
    "#         structures = generate_structure(config[\"simulation_count\"],layers=config[\"layer_count\"])\n",
    "        structures = generate_structure_all(config)\n",
    "        f1 = convert(config[\"spectral_range\"][1], \"c/a\", \"/nm\")\n",
    "        f2 = convert(config[\"spectral_range\"][0], \"c/a\", \"/nm\")\n",
    "        ks = np.linspace(f1, f2, config[\"spectral_resolution\"])\n",
    "        # results = [ get_parameter(s) + calculate_spectrum(s, ks) for s in tqdm(structures, total = config[\"simulation_count\"])]\n",
    "        results = p_map(lambda x : get_parameter(x) + calculate_spectrum(x,ks), list(structures))\n",
    "        columns = get_parameter_names(config) + list(ks)\n",
    "        df = pd.DataFrame(results, columns = columns)\n",
    "        df.to_pickle(filename)\n",
    "    return df\n",
    "\n",
    "def filter_similar_spectrum(config, df, thres_ratio=0.1, plot=False):\n",
    "    #\n",
    "    # Filter spectrum by euclidian distance\n",
    "    # However it is still overdetermined \n",
    "    # \n",
    "    assert(0<=thres_ratio<=1)\n",
    "    assert(df.shape== (config[\"simulation_count\"], get_parameter_count(config) + config[\"spectral_resolution\"]))\n",
    "    distance = pdist(df.iloc[:,get_parameter_count(config):])\n",
    "    dist_mat = pd.DataFrame(np.triu(squareform(distance)))\n",
    "    maxcorr = dist_mat.max()\n",
    "    thres = np.quantile(maxcorr, thres_ratio)\n",
    "    if plot:\n",
    "        import matplotlib.pyplot as plt\n",
    "        plt.figure()\n",
    "        plt.matshow(dist_mat, cmap = 'Greys', vmin=0, vmax=1)\n",
    "        # plt.figure()\n",
    "        # plt.hist(distance,bins=50)\n",
    "        # plt.figure()\n",
    "        # maxcorr.hist(bins=50)\n",
    "        plt.figure()\n",
    "        plt.matshow(dist_mat.loc[maxcorr<thres,maxcorr<thres], cmap = 'Greys', vmin=0, vmax=1)\n",
    "    return df[maxcorr<thres]\n",
    "\n",
    "def train_test_split(df,ratio):\n",
    "    train_count = math.floor(df.shape[0] * ratio)\n",
    "    df.reindex(np.random.permutation(df.index))\n",
    "    df = df.reindex(np.random.permutation(df.index))\n",
    "    df_train = df.iloc[:train_count,:]\n",
    "    df_train.reset_index(inplace=True, drop=True)\n",
    "    df_test = df.iloc[train_count:,:]\n",
    "    df_test.reset_index(inplace=True, drop=True)\n",
    "    return df_train, df_test"
   ]
  },
  {
   "cell_type": "code",
   "execution_count": null,
   "metadata": {},
   "outputs": [],
   "source": []
  },
  {
   "cell_type": "code",
   "execution_count": 66,
   "metadata": {},
   "outputs": [],
   "source": [
    "from tensorflow.keras.models import Sequential\n",
    "from tensorflow.keras.layers import Dense\n",
    "from tensorflow.keras.layers.experimental.preprocessing import Normalization\n",
    "import tensorflow as tf\n",
    "\n",
    "class inverse_model:\n",
    "    normalizer = Normalization()\n",
    "    history_forward = None\n",
    "    history_backward = None\n",
    "    \n",
    "    def __init__(self,config):\n",
    "        self.config = config\n",
    "        f1 = convert(config[\"spectral_range\"][1], \"c/a\", \"/nm\")\n",
    "        f2 = convert(config[\"spectral_range\"][0], \"c/a\", \"/nm\")\n",
    "        self.ks = np.linspace(f1, f2, config[\"spectral_resolution\"])\n",
    "        \n",
    "        self.model_forward = Sequential([\n",
    "          keras.Input(shape=(get_parameter_count(config))),\n",
    "          Dense(config[\"spectral_resolution\"], activation='relu'),\n",
    "          Dense(config[\"spectral_resolution\"]*2.5, activation='relu'),\n",
    "          Dense(config[\"spectral_resolution\"]),\n",
    "        ])\n",
    "        self.model_forward.compile(optimizer='adam',\n",
    "                        loss=tf.keras.losses.mae,\n",
    "                        metrics=['accuracy'])\n",
    "\n",
    "        self.model_backward = Sequential([\n",
    "          keras.Input(shape=(config[\"spectral_resolution\"])),\n",
    "          Dense(config[\"spectral_resolution\"]*2.5, activation='relu'),\n",
    "          Dense(config[\"spectral_resolution\"], activation='relu'),\n",
    "          Dense(get_parameter_count(config), activation='relu'),\n",
    "        ] + self.model_forward.layers)\n",
    "        self.model_backward.compile(optimizer='adam',\n",
    "                        loss=tf.keras.losses.mae,\n",
    "                        metrics=['accuracy'])\n",
    "\n",
    "        self.model_inverse = Sequential([\n",
    "          keras.Input(shape=(config[\"spectral_resolution\"])) ] \n",
    "            + self.model_backward.layers[:-len(self.model_forward.layers)])\n",
    "        \n",
    "    \n",
    "    def summary(self):\n",
    "        self.model_forward.summary()\n",
    "        self.model_backward.summary()\n",
    "        self.model_inverse.summary()\n",
    "    def freeze(self):\n",
    "        for l in self.model_forward.layers:\n",
    "            l.trainable=False\n",
    "\n",
    "    def train(self,df,train_epochs=10):\n",
    "        # Prepare data \n",
    "        X = df.iloc[:,:get_parameter_count(self.config)]\n",
    "        Y = df.iloc[:,get_parameter_count(self.config):]\n",
    "\n",
    "        self.normalizer.adapt(X.values)\n",
    "\n",
    "        train_epochs = 10\n",
    "\n",
    "        # forward train\n",
    "        self.history_forward = self.model_forward.fit(x=self.normalizer(X), y=Y.values, epochs=train_epochs)\n",
    "\n",
    "        # backward train\n",
    "        self.freeze()\n",
    "        self.history_backward = self.model_backward.fit(x=Y.values, y=Y.values, epochs=train_epochs)\n",
    "    \n",
    "    def show_history(self):\n",
    "        import matplotlib.pyplot as plt\n",
    "        plt.plot(self.history_forward.history['loss'])\n",
    "        #plt.plot(history_forward.history['val_loss'])\n",
    "        plt.show()\n",
    "        plt.plot(self.history_backward.history['loss'])\n",
    "        #plt.plot(history_backward.history['val_loss'])\n",
    "        plt.show()\n",
    "        \n",
    "    # Inverse design\n",
    "\n",
    "    def _denormalize(self, tensor):\n",
    "        output = []\n",
    "        for x,y,z in zip(\n",
    "            np.array(self.normalizer.mean),\n",
    "            np.array(self.normalizer.variance),\n",
    "            np.array(tensor[0])\n",
    "        ):\n",
    "            output.append(x+math.sqrt(y)*z)\n",
    "        return output\n",
    "\n",
    "    def design(self, spectrum):\n",
    "        input_ = tf.reshape(tf.convert_to_tensor(spectrum),(1,self.config[\"spectral_resolution\"]))\n",
    "        output_ = self._denormalize(self.model_inverse(input_))\n",
    "#         output_structure = {\"d\" : [np.inf, *output_, np.inf],\n",
    "#                      \"n\": [1.0]+[1.4,2.1]*(len(output_)//2)+[1.0]} \n",
    "        output_structure = generate_structure(self.config, output_)\n",
    "        output_spectrum = calculate_spectrum(output_structure, ks=self.ks)\n",
    "        return output_structure, output_spectrum\n",
    "\n",
    "    def test(self,df):\n",
    "        import random\n",
    "        test_idx = random.randint(0,df.shape[0]-1)\n",
    "        input_structure = df.iloc[test_idx,:][:get_parameter_count(self.config)].values\n",
    "        input_spectrum = df.iloc[test_idx,:][get_parameter_count(self.config):].values\n",
    "        output_structure, output_spectrum = self.design(input_spectrum)\n",
    "\n",
    "        print(f\"Possible structure : {[round(x*1e9,1) for x in input_structure]}\")\n",
    "        print(f\"Output structure : {[round(x*1e9,1) for x in output_structure['d'][1:-1]]}\")\n",
    "        import matplotlib.pyplot as plt\n",
    "        plt.plot( self.ks,input_spectrum ,self.ks, output_spectrum )\n",
    "\n",
    "    def save_model(self):\n",
    "        filename = hashlib.md5(str(self.config).encode()).hexdigest()\n",
    "        self.model_forward.save('models/model_foward_filename')\n",
    "        self.model_backward.save('models/model_backward_filename')\n",
    "        self.model_inverse.save('models/model_inverse_filename')\n"
   ]
  },
  {
   "cell_type": "code",
   "execution_count": 67,
   "metadata": {
    "scrolled": false
   },
   "outputs": [
    {
     "name": "stdout",
     "output_type": "stream",
     "text": [
      "Epoch 1/10\n",
      "1/1 [==============================] - 0s 295ms/step - loss: 0.2542 - accuracy: 0.0000e+00\n",
      "Epoch 2/10\n",
      "1/1 [==============================] - 0s 5ms/step - loss: 0.2399 - accuracy: 0.0000e+00\n",
      "Epoch 3/10\n",
      "1/1 [==============================] - 0s 9ms/step - loss: 0.2258 - accuracy: 0.0000e+00\n",
      "Epoch 4/10\n",
      "1/1 [==============================] - 0s 6ms/step - loss: 0.2112 - accuracy: 0.0000e+00\n",
      "Epoch 5/10\n",
      "1/1 [==============================] - 0s 12ms/step - loss: 0.1961 - accuracy: 0.0000e+00\n",
      "Epoch 6/10\n",
      "1/1 [==============================] - 0s 7ms/step - loss: 0.1808 - accuracy: 0.0000e+00\n",
      "Epoch 7/10\n",
      "1/1 [==============================] - 0s 6ms/step - loss: 0.1656 - accuracy: 0.0000e+00\n",
      "Epoch 8/10\n",
      "1/1 [==============================] - 0s 8ms/step - loss: 0.1518 - accuracy: 0.0000e+00\n",
      "Epoch 9/10\n",
      "1/1 [==============================] - 0s 6ms/step - loss: 0.1407 - accuracy: 0.0000e+00\n",
      "Epoch 10/10\n",
      "1/1 [==============================] - 0s 8ms/step - loss: 0.1327 - accuracy: 0.0000e+00\n",
      "Epoch 1/10\n",
      "1/1 [==============================] - 0s 416ms/step - loss: 0.1706 - accuracy: 0.0000e+00\n",
      "Epoch 2/10\n",
      "1/1 [==============================] - 0s 7ms/step - loss: 0.1586 - accuracy: 0.0000e+00\n",
      "Epoch 3/10\n",
      "1/1 [==============================] - 0s 4ms/step - loss: 0.1209 - accuracy: 0.0000e+00\n",
      "Epoch 4/10\n",
      "1/1 [==============================] - 0s 9ms/step - loss: 0.1140 - accuracy: 0.0000e+00\n",
      "Epoch 5/10\n",
      "1/1 [==============================] - 0s 8ms/step - loss: 0.1113 - accuracy: 0.0000e+00\n",
      "Epoch 6/10\n",
      "1/1 [==============================] - 0s 7ms/step - loss: 0.1069 - accuracy: 0.0000e+00\n",
      "Epoch 7/10\n",
      "1/1 [==============================] - 0s 18ms/step - loss: 0.1066 - accuracy: 0.0000e+00\n",
      "Epoch 8/10\n",
      "1/1 [==============================] - 0s 11ms/step - loss: 0.1027 - accuracy: 0.0000e+00\n",
      "Epoch 9/10\n",
      "1/1 [==============================] - 0s 4ms/step - loss: 0.1026 - accuracy: 0.0000e+00\n",
      "Epoch 10/10\n",
      "1/1 [==============================] - 0s 15ms/step - loss: 0.1014 - accuracy: 0.4000\n"
     ]
    },
    {
     "data": {
      "image/png": "[encoded data removed]",
      "text/plain": [
       "<Figure size 432x288 with 1 Axes>"
      ]
     },
     "metadata": {
      "needs_background": "light"
     },
     "output_type": "display_data"
    },
    {
     "data": {
      "image/png": "[encoded data removed]",
      "text/plain": [
       "<Figure size 432x288 with 1 Axes>"
      ]
     },
     "metadata": {
      "needs_background": "light"
     },
     "output_type": "display_data"
    },
    {
     "name": "stdout",
     "output_type": "stream",
     "text": [
      "Possible structure : [10.0, 10.0, 56.7, 150.0]\n",
      "Output structure : [19.3, 96.5, 48.0, 120.2]\n",
      "INFO:tensorflow:Assets written to: models/model_foward_filename/assets\n",
      "INFO:tensorflow:Assets written to: models/model_backward_filename/assets\n",
      "INFO:tensorflow:Assets written to: models/model_inverse_filename/assets\n"
     ]
    },
    {
     "data": {
      "image/png": "[encoded data removed]",
      "text/plain": [
       "<Figure size 432x288 with 1 Axes>"
      ]
     },
     "metadata": {
      "needs_background": "light"
     },
     "output_type": "display_data"
    }
   ],
   "source": [
    "config = {\n",
    "    \"simulation_count\" : 100,\n",
    "    \"layer_count\" : 4,\n",
    "    \"spectral_range\" : (0.15,0.25),\n",
    "    \"spectral_resolution\" : 200,\n",
    "    \"n1\":1.4,\n",
    "    \"n2\":2.1,\n",
    "    \"d_min\":10e-9,\n",
    "    \"d_max\":150e-9\n",
    "}\n",
    "df = calculate_spectrum_all(config)\n",
    "\n",
    "df = filter_similar_spectrum(config, df, thres_ratio = 0.1, plot=False)\n",
    "\n",
    "inv = inverse_model(config)\n",
    "inv.train(df)\n",
    "inv.show_history()\n",
    "inv.test(df)\n",
    "inv.save_model()"
   ]
  },
  {
   "cell_type": "code",
   "execution_count": null,
   "metadata": {},
   "outputs": [],
   "source": [
    "# define model\n",
    "\n",
    "from tensorflow.keras.models import Sequential\n",
    "from tensorflow.keras.layers import Dense\n",
    "from tensorflow.keras.layers.experimental.preprocessing import Normalization\n",
    "import tensorflow as tf\n",
    "\n",
    "model_forward = Sequential([\n",
    "  keras.Input(shape=(get_parameter_count(config))),\n",
    "  Dense(config[\"spectral_resolution\"], activation='relu'),\n",
    "  Dense(config[\"spectral_resolution\"]*2.5, activation='relu'),\n",
    "  Dense(config[\"spectral_resolution\"]),\n",
    "])\n",
    "model_forward.summary()\n",
    "model_forward.compile(optimizer='adam',\n",
    "                loss=tf.keras.losses.mae,\n",
    "                metrics=['accuracy'])\n",
    "\n",
    "model_backward = Sequential([\n",
    "  keras.Input(shape=(config[\"spectral_resolution\"])),\n",
    "  Dense(config[\"spectral_resolution\"]*2.5, activation='relu'),\n",
    "  Dense(config[\"spectral_resolution\"], activation='relu'),\n",
    "  Dense(get_parameter_count(config), activation='relu'),\n",
    "] + model_forward.layers)\n",
    "model_backward.summary()\n",
    "model_backward.compile(optimizer='adam',\n",
    "                loss=tf.keras.losses.mae,\n",
    "                metrics=['accuracy'])\n",
    "\n",
    "model_inverse = Sequential([\n",
    "  keras.Input(shape=(config[\"spectral_resolution\"])) ] \n",
    "    + model_backward.layers[:-len(model_forward.layers)])\n",
    "model_inverse.summary()\n"
   ]
  },
  {
   "cell_type": "code",
   "execution_count": 53,
   "metadata": {
    "scrolled": true
   },
   "outputs": [
    {
     "name": "stdout",
     "output_type": "stream",
     "text": [
      "Epoch 1/10\n",
      "1/1 [==============================] - 0s 3ms/step - loss: 0.0114 - accuracy: 0.1000\n",
      "Epoch 2/10\n",
      "1/1 [==============================] - 0s 9ms/step - loss: 0.0107 - accuracy: 0.1000\n",
      "Epoch 3/10\n",
      "1/1 [==============================] - 0s 5ms/step - loss: 0.0094 - accuracy: 0.1000\n",
      "Epoch 4/10\n",
      "1/1 [==============================] - 0s 6ms/step - loss: 0.0079 - accuracy: 0.1000\n",
      "Epoch 5/10\n",
      "1/1 [==============================] - 0s 15ms/step - loss: 0.0065 - accuracy: 0.1000\n",
      "Epoch 6/10\n",
      "1/1 [==============================] - 0s 11ms/step - loss: 0.0062 - accuracy: 0.2000\n",
      "Epoch 7/10\n",
      "1/1 [==============================] - 0s 4ms/step - loss: 0.0060 - accuracy: 0.3000\n",
      "Epoch 8/10\n",
      "1/1 [==============================] - 0s 10ms/step - loss: 0.0056 - accuracy: 0.2000\n",
      "Epoch 9/10\n",
      "1/1 [==============================] - 0s 9ms/step - loss: 0.0051 - accuracy: 0.1000\n",
      "Epoch 10/10\n",
      "1/1 [==============================] - 0s 12ms/step - loss: 0.0046 - accuracy: 0.2000\n",
      "Epoch 1/10\n",
      "1/1 [==============================] - 0s 3ms/step - loss: 0.0050 - accuracy: 0.0000e+00\n",
      "Epoch 2/10\n",
      "1/1 [==============================] - 0s 5ms/step - loss: 0.0048 - accuracy: 0.0000e+00\n",
      "Epoch 3/10\n",
      "1/1 [==============================] - 0s 5ms/step - loss: 0.0042 - accuracy: 0.0000e+00\n",
      "Epoch 4/10\n",
      "1/1 [==============================] - 0s 7ms/step - loss: 0.0036 - accuracy: 0.0000e+00\n",
      "Epoch 5/10\n",
      "1/1 [==============================] - 0s 6ms/step - loss: 0.0032 - accuracy: 0.0000e+00\n",
      "Epoch 6/10\n",
      "1/1 [==============================] - 0s 7ms/step - loss: 0.0035 - accuracy: 0.0000e+00\n",
      "Epoch 7/10\n",
      "1/1 [==============================] - 0s 12ms/step - loss: 0.0032 - accuracy: 0.0000e+00\n",
      "Epoch 8/10\n",
      "1/1 [==============================] - 0s 15ms/step - loss: 0.0029 - accuracy: 0.0000e+00\n",
      "Epoch 9/10\n",
      "1/1 [==============================] - 0s 11ms/step - loss: 0.0029 - accuracy: 0.0000e+00\n",
      "Epoch 10/10\n",
      "1/1 [==============================] - 0s 11ms/step - loss: 0.0027 - accuracy: 0.0000e+00\n"
     ]
    }
   ],
   "source": [
    "# Prepare data \n",
    "X = df.iloc[:,:get_parameter_count(config)]\n",
    "Y = df.iloc[:,get_parameter_count(config):]\n",
    "normalizer = Normalization()\n",
    "normalizer.adapt(X.values)\n",
    "\n",
    "train_ecochs = 10\n",
    "\n",
    "# forward train\n",
    "history_forward = model_forward.fit(x=normalizer(X), y=Y.values, epochs=train_ecochs)\n",
    "\n",
    "# backward train\n",
    "# freeze forward layers\n",
    "for l in model_forward.layers:\n",
    "    l.trainable=False\n",
    "history_backward = model_backward.fit(x=Y.values, y=Y.values, epochs=train_ecochs)\n"
   ]
  },
  {
   "cell_type": "code",
   "execution_count": 54,
   "metadata": {},
   "outputs": [
    {
     "data": {
      "image/png": "[encoded data removed]",
      "text/plain": [
       "<Figure size 432x288 with 1 Axes>"
      ]
     },
     "metadata": {
      "needs_background": "light"
     },
     "output_type": "display_data"
    },
    {
     "data": {
      "image/png": "[encoded data removed]",
      "text/plain": [
       "<Figure size 432x288 with 1 Axes>"
      ]
     },
     "metadata": {
      "needs_background": "light"
     },
     "output_type": "display_data"
    }
   ],
   "source": [
    "import matplotlib.pyplot as plt\n",
    "plt.plot(history_forward.history['loss'])\n",
    "#plt.plot(history_forward.history['val_loss'])\n",
    "plt.show()\n",
    "plt.plot(history_backward.history['loss'])\n",
    "#plt.plot(history_backward.history['val_loss'])\n",
    "plt.show()"
   ]
  },
  {
   "cell_type": "code",
   "execution_count": 57,
   "metadata": {
    "scrolled": false
   },
   "outputs": [
    {
     "name": "stdout",
     "output_type": "stream",
     "text": [
      "Possible structure : [10.0, 10.0, 10.0, 10.0]\n",
      "Output structure : [24.5, 45.4, 50.9, 47.0]\n"
     ]
    },
    {
     "data": {
      "text/plain": [
       "[<matplotlib.lines.Line2D at 0x15fb21d00>,\n",
       " <matplotlib.lines.Line2D at 0x15fb21d30>]"
      ]
     },
     "execution_count": 57,
     "metadata": {},
     "output_type": "execute_result"
    },
    {
     "data": {
      "image/png": "[encoded data removed]",
      "text/plain": [
       "<Figure size 432x288 with 1 Axes>"
      ]
     },
     "metadata": {
      "needs_background": "light"
     },
     "output_type": "display_data"
    }
   ],
   "source": [
    "# Inverse design\n",
    "\n",
    "def denormalize(normalizer, tensor):\n",
    "    output = []\n",
    "    for x,y,z in zip(\n",
    "        np.array(normalizer.mean),\n",
    "        np.array(normalizer.variance),\n",
    "        np.array(tensor[0])\n",
    "    ):\n",
    "        output.append(x+math.sqrt(y)*z)\n",
    "    return output\n",
    "\n",
    "f1 = convert(config[\"spectral_range\"][1], \"c/a\", \"/nm\")\n",
    "f2 = convert(config[\"spectral_range\"][0], \"c/a\", \"/nm\")\n",
    "ks = np.linspace(f1, f2, config[\"spectral_resolution\"])\n",
    "\n",
    "import random\n",
    "test_idx = random.randint(0,Y.shape[0])\n",
    "\n",
    "input_spectrum = Y.iloc[test_idx,:].values\n",
    "input_ = tf.reshape(tf.convert_to_tensor(input_spectrum),(1,config[\"spectral_resolution\"]))\n",
    "output_ = denormalize(normalizer, model_inverse(input_))\n",
    "output_structure = {\"d\" : [np.inf, *test_output, np.inf],\n",
    "             \"n\": [1.0]+[1.4,2.1]*(len(test_output)//2)+[1.0]}\n",
    "output_spectrum = calculate_spectrum(output_structure, ks=ks)\n",
    "\n",
    "print(f\"Possible structure : {[round(x*1e9,1) for x in X.iloc[test_idx,:].values]}\")\n",
    "print(f\"Output structure : {[round(x*1e9,1) for x in test_output]}\")\n",
    "plt.plot( ks,input_spectrum ,ks, output_spectrum )"
   ]
  },
  {
   "cell_type": "code",
   "execution_count": null,
   "metadata": {},
   "outputs": [],
   "source": [
    "# model_forward.save('models/model_foward')\n",
    "# model_backward.save('models/model_backward')\n",
    "# model_inverse.save('models/model_inverse')"
   ]
  },
  {
   "cell_type": "code",
   "execution_count": null,
   "metadata": {},
   "outputs": [],
   "source": [
    "\n"
   ]
  },
  {
   "cell_type": "code",
   "execution_count": null,
   "metadata": {},
   "outputs": [],
   "source": []
  },
  {
   "cell_type": "code",
   "execution_count": null,
   "metadata": {},
   "outputs": [],
   "source": []
  },
  {
   "cell_type": "code",
   "execution_count": null,
   "metadata": {},
   "outputs": [],
   "source": []
  },
  {
   "cell_type": "code",
   "execution_count": null,
   "metadata": {},
   "outputs": [],
   "source": []
  },
  {
   "cell_type": "code",
   "execution_count": 7,
   "metadata": {},
   "outputs": [],
   "source": [
    "## tests\n",
    "\n",
    "def __test_structure():\n",
    "#     return [\n",
    "#         [ round(y*1e9) for y in x[\"d\"] if np.isfinite(y)]\n",
    "#         for x in generate_structure(100,layers=4)\n",
    "#     ]\n",
    "    return [ x for x in generate_structure(100,layers=4) ]\n",
    "        \n",
    "def __test_tmm():\n",
    "    f1 = 0.15\n",
    "    f2 = 0.25\n",
    "    ks = np.linspace(convert(f2, \"c/a\", \"/nm\"), convert(f1, \"c/a\", \"/nm\"),200)\n",
    "    structure = {\n",
    "        'd': [inf, 1e-08, 5.6667e-08, 1e-08, 5.6667e-08, inf],\n",
    "        'n': [1.0, 1.4, 1.4, 1.4, 1.4, 1.0]\n",
    "    }\n",
    "    import matplotlib.pyplot as plt\n",
    "    Rnorm = calculate_spectrum(structure, ks)\n",
    "    plt.plot(ks * 1e7, Rnorm, 'blue')\n",
    "    return Rnorm\n",
    "        \n",
    "def __test_multiple_tmm():\n",
    "    f1 = 0.15\n",
    "    f2 = 0.25\n",
    "    ks = np.linspace(convert(f2, \"c/a\", \"/nm\"), convert(f1, \"c/a\", \"/nm\"),200)\n",
    "    a = generate_structure(100,layers=4)\n",
    "    import matplotlib.pyplot as plt\n",
    "    [next(a) for x in range(50)]\n",
    "    Rnorm = calculate_spectrum(next(a), ks)\n",
    "    plt.plot(ks * 1e7, Rnorm, 'blue')\n",
    "    plt.xlabel('k (cm$^{-1}$)')\n",
    "    plt.ylabel('Fraction reflected')\n",
    "    plt.title('Reflection of unpolarized light at 0$^\\circ$ incidence')\n",
    "    return Rnorm\n",
    "\n",
    "def __test_simulation():\n",
    "    config = {\n",
    "        \"simulation_count\" : 100,\n",
    "        \"layer_count\" : 4,\n",
    "        \"spectral_range\" : (0.15,0.25),\n",
    "        \"spectral_resolution\" : 200\n",
    "    }\n",
    "    df = calculate_spectrum_all(config)\n",
    "    return df\n",
    "\n",
    "#__test_structure()\n",
    "#__test_tmm()\n",
    "#__test_multiple_tmm()\n",
    "#__test_simulation()"
   ]
  },
  {
   "cell_type": "code",
   "execution_count": null,
   "metadata": {},
   "outputs": [],
   "source": []
  },
  {
   "cell_type": "code",
   "execution_count": null,
   "metadata": {},
   "outputs": [],
   "source": []
  },
  {
   "cell_type": "code",
   "execution_count": null,
   "metadata": {},
   "outputs": [],
   "source": []
  },
  {
   "cell_type": "code",
   "execution_count": null,
   "metadata": {},
   "outputs": [],
   "source": []
  }
 ],
 "metadata": {
  "kernelspec": {
   "display_name": "ml_test",
   "language": "python",
   "name": "ml_test"
  },
  "language_info": {
   "codemirror_mode": {
    "name": "ipython",
    "version": 3
   },
   "file_extension": ".py",
   "mimetype": "text/x-python",
   "name": "python",
   "nbconvert_exporter": "python",
   "pygments_lexer": "ipython3",
   "version": "3.8.6"
  }
 },
 "nbformat": 4,
 "nbformat_minor": 4
}
